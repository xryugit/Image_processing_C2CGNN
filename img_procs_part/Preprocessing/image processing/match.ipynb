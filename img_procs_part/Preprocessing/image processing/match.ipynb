{
 "cells": [
  {
   "cell_type": "code",
   "execution_count": 9,
   "id": "dc8118e0-7765-4019-b1b1-fc2aa6ccf4ed",
   "metadata": {},
   "outputs": [],
   "source": [
    "import numpy as np\n",
    "import pandas as pd\n",
    "import warnings\n",
    "warnings.filterwarnings('ignore')"
   ]
  },
  {
   "cell_type": "code",
   "execution_count": 4,
   "id": "be45b7b9-051b-4211-9220-044f69ec3f10",
   "metadata": {},
   "outputs": [],
   "source": []
  },
  {
   "cell_type": "markdown",
   "id": "891be3d7-1a3a-4830-89fd-b9ba94a47536",
   "metadata": {},
   "source": [
    "# Info:\n",
    "The quality is just the area of detections in pixel units.  (1 pixel = 0.65 microns)\n",
    "\n",
    "Units of X,Y,R are microns; unit of area is microns^2\n",
    "\n",
    "The cyto means are recalculated. The area of nuclei is excluded."
   ]
  },
  {
   "cell_type": "code",
   "execution_count": null,
   "id": "e089fa37-9920-467c-bd35-5901b3d422e2",
   "metadata": {},
   "outputs": [],
   "source": []
  },
  {
   "cell_type": "code",
   "execution_count": null,
   "id": "d1ce43fc-b3ac-4417-9686-863b039a056f",
   "metadata": {},
   "outputs": [],
   "source": []
  },
  {
   "cell_type": "code",
   "execution_count": 10,
   "id": "3eefe1a9-2428-4708-a8ea-ae236f1e65fb",
   "metadata": {},
   "outputs": [],
   "source": [
    "def cyto_in(n_info, c_info):\n",
    "    denom = c_info['quality'].values[0] - n_info['quality'].values[0]\n",
    "    return [\n",
    "        (c_info['CH{}_Sum'.format(i)].values[0] - n_info['CH{}_Sum'.format(i)].values[0]) / denom\n",
    "        for i in range(1, 5)\n",
    "    ]\n",
    "\n",
    "def match(cyto_path, nu_path):\n",
    "    datac = pd.read_csv(cyto_path)\n",
    "    datan = pd.read_csv(nu_path)\n",
    "\n",
    "    all_frames = datan['frame'].unique()\n",
    "    match_frames = []\n",
    "\n",
    "    for t in all_frames:\n",
    "        cyto = datac[datac['frame'] == t]\n",
    "        nu = datan[datan['frame'] == t]\n",
    "\n",
    "        dists = np.sqrt((nu['X'].values[:, None] - cyto['X'].values) ** 2 + \n",
    "                        (nu['Y'].values[:, None] - cyto['Y'].values) ** 2)\n",
    "\n",
    "        min_dists = dists.min(axis=1)\n",
    "        min_idxs = dists.argmin(axis=1)\n",
    "        \n",
    "        df_dict = {\n",
    "            'nu_track_id': nu['track_id'].values,\n",
    "            'cyto_track_id': cyto.iloc[min_idxs]['track_id'].values,\n",
    "            'frame': [t] * len(nu),\n",
    "            'cyto_X': cyto.iloc[min_idxs]['X'].values,\n",
    "            'cyto_Y': cyto.iloc[min_idxs]['Y'].values,\n",
    "            'nu_X': nu['X'].values,\n",
    "            'nu_Y': nu['Y'].values\n",
    "        }\n",
    "\n",
    "        mask = (nu['radius'].values >= min_dists) & (cyto.iloc[min_idxs]['area'].values > nu['area'].values)\n",
    "        df_dict['cyto_track_id'] = df_dict['cyto_track_id'].astype(float)\n",
    "        df_dict['cyto_track_id'][~mask] = np.nan\n",
    "\n",
    "        match_frames.append(pd.DataFrame(df_dict))\n",
    "\n",
    "    match_df = pd.concat(match_frames, ignore_index=True)\n",
    "    \n",
    "    # Intensity calculations\n",
    "    mean_in = np.empty((len(match_df), 8))\n",
    "    \n",
    "    for ind, (nid, cid, frame) in enumerate(zip(match_df['nu_track_id'], match_df['cyto_track_id'], match_df['frame'])):\n",
    "        n_info = datan[(datan['frame'] == frame) & (datan['track_id'] == nid)]\n",
    "\n",
    "        if not np.isnan(cid):\n",
    "            c_info = datac[(datac['frame'] == frame) & (datac['track_id'] == cid)]\n",
    "            c_in1, c_in2, c_in3, c_in4 = cyto_in(n_info, c_info)\n",
    "            mean_in[ind, :4] = c_in1, c_in2, c_in3, c_in4\n",
    "        else:\n",
    "            mean_in[ind, :4] = [np.nan] * 4\n",
    "\n",
    "        mean_in[ind, 4:] = n_info[['CH1_mean', 'CH2_mean', 'CH3_mean', 'CH4_mean']].values[0]\n",
    "\n",
    "    columns = ['cyto_CH1_mean', 'cyto_CH2_mean', 'cyto_CH3_mean', 'cyto_CH4_mean', 'nu_CH1_mean', 'nu_CH2_mean', 'nu_CH3_mean', 'nu_CH4_mean']\n",
    "    match_df = pd.concat([match_df, pd.DataFrame(mean_in, columns=columns)], axis=1)\n",
    "    \n",
    "    return match_df\n",
    "\n",
    "def inten_array(match_df):\n",
    "    fr = int(match_df['frame'].max()) + 1\n",
    "    id = int(match_df['nu_track_id'].max()) + 1\n",
    "    \n",
    "    # Initial array with NaNs\n",
    "    its = np.empty((id, fr, 8))\n",
    "    its.fill(np.NaN)\n",
    "\n",
    "    # Features to be collected\n",
    "    features = ['cyto_CH1_mean', 'cyto_CH2_mean', 'cyto_CH3_mean', 'cyto_CH4_mean', \n",
    "                'nu_CH1_mean', 'nu_CH2_mean', 'nu_CH3_mean', 'nu_CH4_mean']\n",
    "    \n",
    "    # Loop over features to fill the array\n",
    "    for idx, feature in enumerate(features):\n",
    "        pivot_table = match_df.pivot(index='nu_track_id', columns='frame', values=feature)\n",
    "        \n",
    "        # Assign the pivot_table values to the corresponding slice of the 3D array\n",
    "        its[:, :, idx] = pivot_table.values\n",
    "\n",
    "    return its\n"
   ]
  },
  {
   "cell_type": "markdown",
   "id": "336935ee-773b-4b93-9c87-98f6e950c6c4",
   "metadata": {},
   "source": [
    "# Save match result as csv\n",
    "cyto_path = r\"C:\\Users\\yuxin\\Desktop\\tc_data\\cyto_xy1.csv\"\n",
    "nu_path = r\"C:\\Users\\yuxin\\Desktop\\tc_data\\nu_xy1.csv\"\n",
    "\n",
    "df = match(cyto_path,nu_path) \n",
    "df['frame'] = df['frame'].astype(int)\n",
    "csv_path = r'C:\\Users\\yuxin\\Desktop\\tc_data\\228df1'\n",
    "df.to_csv(csv_path+'.csv', index=False)  "
   ]
  },
  {
   "cell_type": "markdown",
   "id": "3fc612ba-a3a4-44f8-b3f0-39b4917169e6",
   "metadata": {},
   "source": [
    "# Usage\n",
    "cyto_path = r\"C:\\Users\\yuxin\\Desktop\\tc_data\\cyto.csv\"\n",
    "nu_path = r\"C:\\Users\\yuxin\\Desktop\\tc_data\\nu.csv\"\n",
    "\n",
    "df = match(cyto_path,nu_path) "
   ]
  },
  {
   "cell_type": "code",
   "execution_count": 13,
   "id": "6762a27a-8b28-406f-82a9-3711ab0f23f7",
   "metadata": {},
   "outputs": [],
   "source": []
  }
 ],
 "metadata": {
  "kernelspec": {
   "display_name": "Python 3 (ipykernel)",
   "language": "python",
   "name": "python3"
  },
  "language_info": {
   "codemirror_mode": {
    "name": "ipython",
    "version": 3
   },
   "file_extension": ".py",
   "mimetype": "text/x-python",
   "name": "python",
   "nbconvert_exporter": "python",
   "pygments_lexer": "ipython3",
   "version": "3.9.17"
  }
 },
 "nbformat": 4,
 "nbformat_minor": 5
}
