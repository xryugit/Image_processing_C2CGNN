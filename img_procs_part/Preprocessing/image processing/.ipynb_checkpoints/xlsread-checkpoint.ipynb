{
 "cells": [
  {
   "cell_type": "code",
   "execution_count": 1,
   "id": "6058abca",
   "metadata": {},
   "outputs": [],
   "source": [
    "import openpyxl\n",
    "import numpy as np\n",
    "import pandas as pd\n",
    "def xlsread(filename, sheet, range_str=None):\n",
    "    #READ RAW DATA\n",
    "    yraw=pd.read_excel(filename,header=None,sheet_name = sheet,nrows=range_str)\n",
    "    yrawnp = yraw.to_numpy(dtype=object)\n",
    "    #MAKE MASK \n",
    "    is_str_mask = np.vectorize(lambda x: type(x) is str)(yrawnp)\n",
    "    is_float_mask = np.vectorize(lambda x: type(x) is float)(yrawnp)\n",
    "    is_int_mask = np.vectorize(lambda x: type(x) is int)(yrawnp)\n",
    "    is_num_mask = np.logical_or(is_int_mask, is_float_mask)\n",
    "    #FILTER THE NUM, TXT DATA\n",
    "    ynum = np.where(is_num_mask, yrawnp,np.nan).astype(float)\n",
    "    ytxt = np.where(is_str_mask, yrawnp,'' )\n",
    "    #remove the lines with all NaN and turn into pd\n",
    "    dftxt = pd.DataFrame(ytxt)\n",
    "    dftxt.dropna(how= \"all\", inplace= True)\n",
    "    dfnum = pd.DataFrame(ynum)\n",
    "    dfnum.dropna(how= \"all\", inplace= True)\n",
    "    return dfnum, dftxt, yraw\n",
    "#Test\n",
    "#ynum, ytxt, yraw = xlsread(r'C:\\Users\\Xinran Yu\\OneDrive\\Desktop\\Project\\Code\\Image Analysis\\FluorophoreSpectra.xlsx',sheet = 'Sheet1')\n",
    "#yraw\n",
    "#ynum\n",
    "#ytxt"
   ]
  },
  {
   "cell_type": "code",
   "execution_count": 2,
   "id": "e970df78",
   "metadata": {},
   "outputs": [],
   "source": []
  }
 ],
 "metadata": {
  "kernelspec": {
   "display_name": "Python 3 (ipykernel)",
   "language": "python",
   "name": "python3"
  },
  "language_info": {
   "codemirror_mode": {
    "name": "ipython",
    "version": 3
   },
   "file_extension": ".py",
   "mimetype": "text/x-python",
   "name": "python",
   "nbconvert_exporter": "python",
   "pygments_lexer": "ipython3",
   "version": "3.10.10"
  }
 },
 "nbformat": 4,
 "nbformat_minor": 5
}
