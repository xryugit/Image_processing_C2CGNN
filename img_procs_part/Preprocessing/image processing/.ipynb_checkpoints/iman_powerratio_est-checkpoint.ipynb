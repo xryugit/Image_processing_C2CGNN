{
 "cells": [
  {
   "cell_type": "code",
   "execution_count": 1,
   "id": "2b0ab021-1cdb-40c1-8f8c-946c52b3c1f1",
   "metadata": {},
   "outputs": [],
   "source": [
    "%run -i GMD.py\n",
    "%run -i naming.ipynb\n",
    "%run -i iq_getspectralpar.ipynb\n",
    "%run -i iq_getcameraqe.ipynb\n",
    "%run -i iq_getlightsourcespectra.ipynb"
   ]
  },
  {
   "cell_type": "code",
   "execution_count": 2,
   "id": "2753182e-7932-47b5-939f-963feee3637f",
   "metadata": {},
   "outputs": [],
   "source": [
    "import numpy as np\n",
    "import re"
   ]
  },
  {
   "cell_type": "code",
   "execution_count": 3,
   "id": "ac7c27ff-d7f8-4957-b065-7bb884a6dd21",
   "metadata": {},
   "outputs": [],
   "source": [
    "def iman_powerratio_est(MD, SP=None, cn=None):\n",
    "    \n",
    "    # Default Fret pair = CFP/YFP\n",
    "    if cn is None or not cn:\n",
    "        cn = ['cfp', 'yfp']\n",
    "    #Get matching channel IDs\n",
    "    id = [i for i, channel in enumerate(MD[\"exp\"][\"Channel\"]) for name in cn if re.search(name, channel, re.IGNORECASE)]\n",
    "    \n",
    "    #Remove irrelevant channels\n",
    "    fnn = ['Channel', 'Exposure', 'ExVolt', 'Filter', 'FPhore', 'ExLine', 'ExWL']\n",
    "    for name in fnn:\n",
    "        if name in MD[\"exp\"]:\n",
    "            MD[\"exp\"][name] = [MD[\"exp\"][name][i] for i in id]\n",
    "    \n",
    "    #Ensure spectral parameters are available\n",
    "    if SP is None or not SP:\n",
    "        SP = iq_getspectralpar()\n",
    "    \n",
    "    #Assert proper names for MetaData on FPhores and Filters\n",
    "    MD[\"exp\"][\"FPhore\"], MD[\"exp\"][\"Filter\"] = iman_naming('match', MD[\"exp\"][\"FPhore\"], MD[\"exp\"][\"Filter\"])\n",
    "    \n",
    "    #Get Light source spectral power\n",
    "    lsPower, cc = iq_getlightsourcespectra(MD)\n",
    "    lsn = [name for name in lsPower if name != 'WaveLength']\n",
    "    \n",
    "    #If Multi Line source, assemble line list\n",
    "    is_multiline = False\n",
    "    if \"Line\" in lsPower[lsn[0]] and \"ExLine\" in MD[\"exp\"] and MD[\"exp\"][\"ExLine\"]:\n",
    "        is_multiline = True\n",
    "    #Double check MetaData format\n",
    "        if not isinstance(MD[\"exp\"][\"ExVolt\"], list):\n",
    "            MD[\"exp\"][\"ExVolt\"] = [MD[\"exp\"][\"ExVolt\"]]\n",
    "    else:\n",
    "        # If single line, ensure numeric array MD\n",
    "        if isinstance(MD[\"exp\"][\"ExVolt\"], list):\n",
    "            MD[\"exp\"][\"ExVolt\"] = np.array(MD[\"exp\"][\"ExVolt\"])\n",
    "        if isinstance(MD[\"exp\"][\"Exposure\"], list):\n",
    "            MD[\"exp\"][\"Exposure\"] = np.array(MD[\"exp\"][\"Exposure\"])\n",
    "    #Get camera QE (quantum efficiency) curve\n",
    "    QEcam, cdb,db = iq_getcameraqe(MD[\"cam\"][\"Desc\"], SP[\"WaveLength\"])\n",
    "    #Evaluate channel data to get intensity gains\n",
    "    rig = [0, 0]\n",
    "    for s in range(2):\n",
    "        # IF Multi-line, use the calibrated channel (from getlightsourcespectra)\n",
    "        if is_multiline:\n",
    "            lsp = cc[s]\n",
    "        else:\n",
    "            # IF Single-line, apply cal factor\n",
    "            lsp = np.multiply(lsPower[lsn[0]][\"spec\"], cc[s])\n",
    "        # Define relevant filter and fluorophore spectra\n",
    "        fp = SP[MD[\"exp\"][\"FPhore\"][s]]\n",
    "        ft = SP[MD[\"exp\"][\"Filter\"][s]]\n",
    "        \n",
    "        #Calculate relative intensity gain\n",
    "        rig[s] = (\n",
    "            np.sum(lsp *ft[\"ex\"][:,0]* fp[\"ab\"][:,0]) * \n",
    "            np.sum(ft[\"em\"][:,0] * fp[\"em\"][:,0] * QEcam) * \n",
    "            fp[\"mec\"] * fp[\"QY\"] * MD[\"exp\"][\"Exposure\"][s] / \n",
    "            np.sum(fp[\"em\"][:,0])\n",
    "        )\n",
    "    #Take ratio of RIG to get Power Ratio (e.g. Donor to Acceptor in FRET pair)\n",
    "    prat = rig[0] / rig[1]\n",
    "    \n",
    "    return prat\n",
    "\n",
    "# You would still need to define or translate other functions like:\n",
    "# - iq_getspectralpar()\n",
    "# - iman_naming()\n",
    "# - iq_getlightsourcespectra()\n",
    "# - iq_getcameraqe()\n"
   ]
  },
  {
   "cell_type": "markdown",
   "id": "9362345b-5c05-4caa-b007-7517084979b8",
   "metadata": {},
   "source": [
    "# Usage\n",
    "\n",
    "MD = mdi\n",
    "fc = ['cfp','yfp']\n",
    "SP = []\n",
    "\n",
    "prat = iman_powerratio_est(MD,SP,fc)"
   ]
  },
  {
   "cell_type": "markdown",
   "id": "94a3936c-76df-47ea-86cb-3ff63f159779",
   "metadata": {
    "jp-MarkdownHeadingCollapsed": true
   },
   "source": [
    "# Later use"
   ]
  },
  {
   "cell_type": "markdown",
   "id": "3d9f6d25-cfc3-4807-a7bf-0caa53b864f7",
   "metadata": {},
   "source": [
    "if cn is None or not cn:\n",
    "    cn = ['cfp', 'yfp']\n",
    "#Get matching channel IDs\n",
    "id = [i for i, channel in enumerate(MD[\"exp\"][\"Channel\"]) for name in cn if re.search(name, channel, re.IGNORECASE)]\n",
    "\n",
    "#Remove irrelevant channels\n",
    "fnn = ['Channel', 'Exposure', 'ExVolt', 'Filter', 'FPhore', 'ExLine', 'ExWL']\n",
    "for name in fnn:\n",
    "    if name in MD[\"exp\"]:\n",
    "        MD[\"exp\"][name] = [MD[\"exp\"][name][i] for i in id]\n",
    "\n",
    "#Ensure spectral parameters are available\n",
    "if SP is None or not SP:\n",
    "    SP = iq_getspectralpar()\n",
    "\n",
    "#Assert proper names for MetaData on FPhores and Filters\n",
    "MD[\"exp\"][\"FPhore\"], MD[\"exp\"][\"Filter\"] = iman_naming('match', MD[\"exp\"][\"FPhore\"], MD[\"exp\"][\"Filter\"])\n",
    "\n",
    "#Get Light source spectral power\n",
    "lsPower, cc = iq_getlightsourcespectra(MD)\n",
    "lsn = [name for name in lsPower if name != 'WaveLength']\n",
    "\n",
    "#If Multi Line source, assemble line list\n",
    "is_multiline = False\n",
    "if \"Line\" in lsPower[lsn[0]] and \"ExLine\" in MD[\"exp\"] and MD[\"exp\"][\"ExLine\"]:\n",
    "    is_multiline = True\n",
    "#Double check MetaData format\n",
    "    if not isinstance(MD[\"exp\"][\"ExVolt\"], list):\n",
    "        MD[\"exp\"][\"ExVolt\"] = [MD[\"exp\"][\"ExVolt\"]]\n",
    "else:\n",
    "    # If single line, ensure numeric array MD\n",
    "    if isinstance(MD[\"exp\"][\"ExVolt\"], list):\n",
    "        MD[\"exp\"][\"ExVolt\"] = np.array(MD[\"exp\"][\"ExVolt\"])\n",
    "    if isinstance(MD[\"exp\"][\"Exposure\"], list):\n",
    "        MD[\"exp\"][\"Exposure\"] = np.array(MD[\"exp\"][\"Exposure\"])\n",
    "#Get camera QE (quantum efficiency) curve\n",
    "QEcam, cdb,db = iq_getcameraqe(MD[\"cam\"][\"Desc\"], SP[\"WaveLength\"])\n",
    "#Evaluate channel data to get intensity gains\n",
    "rig = [0, 0]\n",
    "for s in range(2):\n",
    "    # IF Multi-line, use the calibrated channel (from getlightsourcespectra)\n",
    "    if is_multiline:\n",
    "        lsp = cc[s]\n",
    "    else:\n",
    "        # IF Single-line, apply cal factor\n",
    "        lsp = np.multiply(lsPower[lsn[0]][\"spec\"], cc[s])\n",
    "    # Define relevant filter and fluorophore spectra\n",
    "    fp = SP[MD[\"exp\"][\"FPhore\"][s]]\n",
    "    ft = SP[MD[\"exp\"][\"Filter\"][s]]\n",
    "    \n",
    "    #Calculate relative intensity gain\n",
    "    rig[s] = (\n",
    "        np.sum(lsp *ft[\"ex\"][:,0]* fp[\"ab\"][:,0]) * \n",
    "        np.sum(ft[\"em\"][:,0] * fp[\"em\"][:,0] * QEcam) * \n",
    "        fp[\"mec\"] * fp[\"QY\"] * MD[\"exp\"][\"Exposure\"][s] / \n",
    "        np.sum(fp[\"em\"][:,0])\n",
    "    )\n",
    "#Take ratio of RIG to get Power Ratio (e.g. Donor to Acceptor in FRET pair)\n",
    "prat = rig[0] / rig[1]"
   ]
  },
  {
   "cell_type": "code",
   "execution_count": 67,
   "id": "eaf49f6a-4a64-41e8-8554-42f8fba0ecf6",
   "metadata": {},
   "outputs": [],
   "source": []
  },
  {
   "cell_type": "code",
   "execution_count": 68,
   "id": "da04c14f-6dea-4b89-a061-5a591b064289",
   "metadata": {},
   "outputs": [
    {
     "data": {
      "text/plain": [
       "array([4.440968396558762], dtype=object)"
      ]
     },
     "execution_count": 68,
     "metadata": {},
     "output_type": "execute_result"
    }
   ],
   "source": []
  },
  {
   "cell_type": "code",
   "execution_count": null,
   "id": "8bb394c7-0803-4d57-8031-67dbc7f49c30",
   "metadata": {},
   "outputs": [],
   "source": []
  },
  {
   "cell_type": "code",
   "execution_count": null,
   "id": "dff0d253-9d2b-4581-b228-94a4f3aef490",
   "metadata": {},
   "outputs": [],
   "source": []
  }
 ],
 "metadata": {
  "kernelspec": {
   "display_name": "Python 3 (ipykernel)",
   "language": "python",
   "name": "python3"
  },
  "language_info": {
   "codemirror_mode": {
    "name": "ipython",
    "version": 3
   },
   "file_extension": ".py",
   "mimetype": "text/x-python",
   "name": "python",
   "nbconvert_exporter": "python",
   "pygments_lexer": "ipython3",
   "version": "3.9.18"
  }
 },
 "nbformat": 4,
 "nbformat_minor": 5
}
