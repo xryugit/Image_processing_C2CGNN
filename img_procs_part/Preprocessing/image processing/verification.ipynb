{
 "cells": [
  {
   "cell_type": "code",
   "execution_count": 1,
   "id": "3b4974c0-4034-42bb-8edb-18620cdde5fb",
   "metadata": {},
   "outputs": [],
   "source": [
    "%run -i ct_dataproc.ipynb\n",
    "import cv2\n",
    "import numpy as np\n",
    "import numpy as np\n",
    "import tifffile as ti\n",
    "import scipy.io as sio\n",
    "import matplotlib.pyplot as plt"
   ]
  },
  {
   "cell_type": "markdown",
   "id": "b0333ff8-a9ea-4f55-b3ee-d932108c3588",
   "metadata": {},
   "source": [
    "cyto_path = r\"C:\\Users\\yuxin\\Desktop\\tc_data\\cyto.csv\"\n",
    "nu_path = r\"C:\\Users\\yuxin\\Desktop\\tc_data\\nu.csv\"\n",
    "df = match(cyto_path,nu_path) "
   ]
  },
  {
   "cell_type": "markdown",
   "id": "0d68d67f-8dde-4f28-8f9e-cb7165aa53dc",
   "metadata": {},
   "source": [
    "csv_path = r'C:\\Users\\yuxin\\Desktop\\tc_data\\228df'\n",
    "df.to_csv(csv_path+'.csv', index=False)  "
   ]
  },
  {
   "cell_type": "markdown",
   "id": "43479a73-d38d-4057-a6cf-381ac13cdd20",
   "metadata": {},
   "source": [
    "# Matching"
   ]
  },
  {
   "cell_type": "code",
   "execution_count": 8,
   "id": "67e843fb-a345-4dab-b407-ae120e4efd88",
   "metadata": {},
   "outputs": [],
   "source": [
    "def read_tiff_frames(tiff_path):\n",
    "    with ti.TiffFile(tiff_path) as tif:\n",
    "        frames = [page.asarray() for page in tif.pages]\n",
    "    return np.stack(frames)"
   ]
  },
  {
   "cell_type": "code",
   "execution_count": null,
   "id": "2b12077b-8f89-4832-9d9a-7cc6cd7d264e",
   "metadata": {},
   "outputs": [],
   "source": []
  },
  {
   "cell_type": "code",
   "execution_count": 22,
   "id": "72680d24-8fe0-4c95-8856-ddd2f742db3a",
   "metadata": {},
   "outputs": [],
   "source": [
    "#read images\n",
    "tiff_path = r\"C:\\Users\\yuxin\\Desktop\\tc_data\\228_m.tif\"\n",
    "frames = read_tiff_frames(tiff_path)\n",
    "#params\n",
    "color=(0, 255, 0)\n",
    "thickness = 2\n",
    "\n",
    "modified_images = []\n",
    "for i in range(max(list(df['frame']))+1):\n",
    "    image = frames[i,:,:,:]\n",
    "    temp = df[df['frame'] == i]\n",
    "    for index, row in temp.iterrows():\n",
    "         if ~np.isnan(row[1]):\n",
    "            cyto_point = (int(row[3]/0.65),int(row[4]/0.65)) #1 pixel = 0.65 microns\n",
    "            nu_point = (int(row[5]/0.65),int(row[6]/0.65))\n",
    "            cv2.line(image, nu_point, cyto_point, color, thickness)\n",
    "         else:\n",
    "            continue\n",
    "    #modified_image = image\n",
    "    modified_images.append(image)\n",
    "stacked_images = np.stack(modified_images)\n",
    "# Save as a multi-page TIFF\n",
    "output_tiff_path = 'match_228_m.tif'\n",
    "ti.imwrite(output_tiff_path, stacked_images)"
   ]
  },
  {
   "cell_type": "markdown",
   "id": "22052f60-85b5-4b5d-a3ea-28d8a0892ef3",
   "metadata": {},
   "source": [
    "# Distribution"
   ]
  },
  {
   "cell_type": "code",
   "execution_count": 2,
   "id": "364c17c3-7a93-4dcc-a4f2-688f80fa216b",
   "metadata": {},
   "outputs": [
    {
     "name": "stdout",
     "output_type": "stream",
     "text": [
      "KAR 2\n"
     ]
    }
   ],
   "source": [
    "#FRET channels\n",
    "fc = ['cfp','yfp']\n",
    "#State sampling interval\n",
    "tsamp = 6\n",
    "#Declare (new) output channel names\n",
    "cn = ['EKAR']\n",
    "#Declare matching input channel indices (or descriptors)\n",
    "#for ratios list numerator (or FRET Donor) first, x/y => [x,y]\n",
    "ci = [[5,6]]\n",
    "#Set minimum track length\n",
    "minL = 25 \n",
    "#Set maximum gap size\n",
    "maxGap = 2\n",
    "#Set 'start only' flag\n",
    "sto = False\n",
    "prat = []\n",
    "\n",
    "# Check if 'fc' exists and is not empty\n",
    "if 'fc' in locals() and fc:  \n",
    "    GMD = mdi\n",
    "    # Calculate the power ratio for FRET signals\n",
    "    prat = iman_powerratio_est(GMD, None, fc)\n",
    "    prat = list(prat.astype(float))\n",
    "\n",
    "\n",
    "# Usage difference: take one series as input, not multiple\n",
    "d,p = ct_dataproc(df,\n",
    "    tsamp = tsamp,\n",
    "    name = cn,\n",
    "    ind = ci,\n",
    "    pwrat = prat,\n",
    "    dlengthmin = minL,\n",
    "    gapmax = maxGap,\n",
    "    startonly = sto)\n"
   ]
  },
  {
   "cell_type": "code",
   "execution_count": 3,
   "id": "6c382bb8-3abe-4e11-9a75-f997837539ba",
   "metadata": {},
   "outputs": [
    {
     "data": {
      "text/html": [
       "<div>\n",
       "<style scoped>\n",
       "    .dataframe tbody tr th:only-of-type {\n",
       "        vertical-align: middle;\n",
       "    }\n",
       "\n",
       "    .dataframe tbody tr th {\n",
       "        vertical-align: top;\n",
       "    }\n",
       "\n",
       "    .dataframe thead th {\n",
       "        text-align: right;\n",
       "    }\n",
       "</style>\n",
       "<table border=\"1\" class=\"dataframe\">\n",
       "  <thead>\n",
       "    <tr style=\"text-align: right;\">\n",
       "      <th></th>\n",
       "      <th>nu_track_id</th>\n",
       "      <th>cyto_track_id</th>\n",
       "      <th>frame</th>\n",
       "      <th>cyto_X</th>\n",
       "      <th>cyto_Y</th>\n",
       "      <th>nu_X</th>\n",
       "      <th>nu_Y</th>\n",
       "      <th>cyto_CH1_mean</th>\n",
       "      <th>cyto_CH2_mean</th>\n",
       "      <th>cyto_CH3_mean</th>\n",
       "      <th>cyto_CH4_mean</th>\n",
       "      <th>nu_CH1_mean</th>\n",
       "      <th>nu_CH2_mean</th>\n",
       "      <th>nu_CH3_mean</th>\n",
       "      <th>nu_CH4_mean</th>\n",
       "    </tr>\n",
       "  </thead>\n",
       "  <tbody>\n",
       "    <tr>\n",
       "      <th>0</th>\n",
       "      <td>0.0</td>\n",
       "      <td>341.0</td>\n",
       "      <td>0</td>\n",
       "      <td>796.925325</td>\n",
       "      <td>105.776948</td>\n",
       "      <td>796.369737</td>\n",
       "      <td>105.808882</td>\n",
       "      <td>2011.326523</td>\n",
       "      <td>6635.431630</td>\n",
       "      <td>1228.291505</td>\n",
       "      <td>50.370183</td>\n",
       "      <td>2560.272248</td>\n",
       "      <td>3416.036273</td>\n",
       "      <td>612.361274</td>\n",
       "      <td>152.629639</td>\n",
       "    </tr>\n",
       "    <tr>\n",
       "      <th>1</th>\n",
       "      <td>1.0</td>\n",
       "      <td>77.0</td>\n",
       "      <td>0</td>\n",
       "      <td>64.973498</td>\n",
       "      <td>297.618634</td>\n",
       "      <td>66.014634</td>\n",
       "      <td>297.066986</td>\n",
       "      <td>1625.239272</td>\n",
       "      <td>5584.728960</td>\n",
       "      <td>1067.502226</td>\n",
       "      <td>173.003018</td>\n",
       "      <td>2560.848995</td>\n",
       "      <td>2838.689749</td>\n",
       "      <td>511.753242</td>\n",
       "      <td>252.346311</td>\n",
       "    </tr>\n",
       "    <tr>\n",
       "      <th>2</th>\n",
       "      <td>2.0</td>\n",
       "      <td>327.0</td>\n",
       "      <td>0</td>\n",
       "      <td>503.488718</td>\n",
       "      <td>108.626141</td>\n",
       "      <td>503.084320</td>\n",
       "      <td>109.098794</td>\n",
       "      <td>1969.582950</td>\n",
       "      <td>7211.201252</td>\n",
       "      <td>1332.649972</td>\n",
       "      <td>78.813709</td>\n",
       "      <td>2405.344105</td>\n",
       "      <td>5446.386990</td>\n",
       "      <td>1009.849531</td>\n",
       "      <td>136.082341</td>\n",
       "    </tr>\n",
       "    <tr>\n",
       "      <th>3</th>\n",
       "      <td>3.0</td>\n",
       "      <td>451.0</td>\n",
       "      <td>0</td>\n",
       "      <td>240.028214</td>\n",
       "      <td>108.448692</td>\n",
       "      <td>238.874151</td>\n",
       "      <td>110.040078</td>\n",
       "      <td>1811.097313</td>\n",
       "      <td>5718.006060</td>\n",
       "      <td>1032.029575</td>\n",
       "      <td>113.443089</td>\n",
       "      <td>2080.893593</td>\n",
       "      <td>3552.034788</td>\n",
       "      <td>638.322809</td>\n",
       "      <td>177.135599</td>\n",
       "    </tr>\n",
       "    <tr>\n",
       "      <th>4</th>\n",
       "      <td>4.0</td>\n",
       "      <td>NaN</td>\n",
       "      <td>0</td>\n",
       "      <td>322.004639</td>\n",
       "      <td>91.205498</td>\n",
       "      <td>315.605556</td>\n",
       "      <td>108.586111</td>\n",
       "      <td>NaN</td>\n",
       "      <td>NaN</td>\n",
       "      <td>NaN</td>\n",
       "      <td>NaN</td>\n",
       "      <td>NaN</td>\n",
       "      <td>NaN</td>\n",
       "      <td>NaN</td>\n",
       "      <td>NaN</td>\n",
       "    </tr>\n",
       "    <tr>\n",
       "      <th>...</th>\n",
       "      <td>...</td>\n",
       "      <td>...</td>\n",
       "      <td>...</td>\n",
       "      <td>...</td>\n",
       "      <td>...</td>\n",
       "      <td>...</td>\n",
       "      <td>...</td>\n",
       "      <td>...</td>\n",
       "      <td>...</td>\n",
       "      <td>...</td>\n",
       "      <td>...</td>\n",
       "      <td>...</td>\n",
       "      <td>...</td>\n",
       "      <td>...</td>\n",
       "      <td>...</td>\n",
       "    </tr>\n",
       "    <tr>\n",
       "      <th>259008</th>\n",
       "      <td>2519.0</td>\n",
       "      <td>1777.0</td>\n",
       "      <td>227</td>\n",
       "      <td>106.503991</td>\n",
       "      <td>53.042385</td>\n",
       "      <td>107.382907</td>\n",
       "      <td>48.075080</td>\n",
       "      <td>1474.659020</td>\n",
       "      <td>4629.579687</td>\n",
       "      <td>712.588444</td>\n",
       "      <td>165.704261</td>\n",
       "      <td>1797.078900</td>\n",
       "      <td>3479.256388</td>\n",
       "      <td>518.446095</td>\n",
       "      <td>205.669936</td>\n",
       "    </tr>\n",
       "    <tr>\n",
       "      <th>259009</th>\n",
       "      <td>2520.0</td>\n",
       "      <td>2941.0</td>\n",
       "      <td>227</td>\n",
       "      <td>273.911585</td>\n",
       "      <td>242.126982</td>\n",
       "      <td>277.369231</td>\n",
       "      <td>241.238462</td>\n",
       "      <td>1405.569482</td>\n",
       "      <td>3618.685634</td>\n",
       "      <td>633.797118</td>\n",
       "      <td>141.170542</td>\n",
       "      <td>1178.975889</td>\n",
       "      <td>2471.502190</td>\n",
       "      <td>438.265632</td>\n",
       "      <td>168.026761</td>\n",
       "    </tr>\n",
       "    <tr>\n",
       "      <th>259010</th>\n",
       "      <td>2521.0</td>\n",
       "      <td>3026.0</td>\n",
       "      <td>227</td>\n",
       "      <td>112.055877</td>\n",
       "      <td>591.822170</td>\n",
       "      <td>113.288636</td>\n",
       "      <td>591.556818</td>\n",
       "      <td>1440.460623</td>\n",
       "      <td>3574.939356</td>\n",
       "      <td>688.705573</td>\n",
       "      <td>214.386805</td>\n",
       "      <td>1144.998970</td>\n",
       "      <td>2324.799118</td>\n",
       "      <td>460.732851</td>\n",
       "      <td>267.886051</td>\n",
       "    </tr>\n",
       "    <tr>\n",
       "      <th>259011</th>\n",
       "      <td>2522.0</td>\n",
       "      <td>837.0</td>\n",
       "      <td>227</td>\n",
       "      <td>451.197321</td>\n",
       "      <td>341.245536</td>\n",
       "      <td>448.600704</td>\n",
       "      <td>344.884507</td>\n",
       "      <td>1516.150667</td>\n",
       "      <td>4493.557442</td>\n",
       "      <td>710.650314</td>\n",
       "      <td>95.152936</td>\n",
       "      <td>1712.439810</td>\n",
       "      <td>4134.842412</td>\n",
       "      <td>606.642312</td>\n",
       "      <td>128.642373</td>\n",
       "    </tr>\n",
       "    <tr>\n",
       "      <th>259012</th>\n",
       "      <td>2523.0</td>\n",
       "      <td>NaN</td>\n",
       "      <td>227</td>\n",
       "      <td>631.386093</td>\n",
       "      <td>189.656679</td>\n",
       "      <td>625.899351</td>\n",
       "      <td>186.775108</td>\n",
       "      <td>NaN</td>\n",
       "      <td>NaN</td>\n",
       "      <td>NaN</td>\n",
       "      <td>NaN</td>\n",
       "      <td>NaN</td>\n",
       "      <td>NaN</td>\n",
       "      <td>NaN</td>\n",
       "      <td>NaN</td>\n",
       "    </tr>\n",
       "  </tbody>\n",
       "</table>\n",
       "<p>259013 rows × 15 columns</p>\n",
       "</div>"
      ],
      "text/plain": [
       "        nu_track_id  cyto_track_id  frame      cyto_X      cyto_Y        nu_X  \\\n",
       "0               0.0          341.0      0  796.925325  105.776948  796.369737   \n",
       "1               1.0           77.0      0   64.973498  297.618634   66.014634   \n",
       "2               2.0          327.0      0  503.488718  108.626141  503.084320   \n",
       "3               3.0          451.0      0  240.028214  108.448692  238.874151   \n",
       "4               4.0            NaN      0  322.004639   91.205498  315.605556   \n",
       "...             ...            ...    ...         ...         ...         ...   \n",
       "259008       2519.0         1777.0    227  106.503991   53.042385  107.382907   \n",
       "259009       2520.0         2941.0    227  273.911585  242.126982  277.369231   \n",
       "259010       2521.0         3026.0    227  112.055877  591.822170  113.288636   \n",
       "259011       2522.0          837.0    227  451.197321  341.245536  448.600704   \n",
       "259012       2523.0            NaN    227  631.386093  189.656679  625.899351   \n",
       "\n",
       "              nu_Y  cyto_CH1_mean  cyto_CH2_mean  cyto_CH3_mean  \\\n",
       "0       105.808882    2011.326523    6635.431630    1228.291505   \n",
       "1       297.066986    1625.239272    5584.728960    1067.502226   \n",
       "2       109.098794    1969.582950    7211.201252    1332.649972   \n",
       "3       110.040078    1811.097313    5718.006060    1032.029575   \n",
       "4       108.586111            NaN            NaN            NaN   \n",
       "...            ...            ...            ...            ...   \n",
       "259008   48.075080    1474.659020    4629.579687     712.588444   \n",
       "259009  241.238462    1405.569482    3618.685634     633.797118   \n",
       "259010  591.556818    1440.460623    3574.939356     688.705573   \n",
       "259011  344.884507    1516.150667    4493.557442     710.650314   \n",
       "259012  186.775108            NaN            NaN            NaN   \n",
       "\n",
       "        cyto_CH4_mean  nu_CH1_mean  nu_CH2_mean  nu_CH3_mean  nu_CH4_mean  \n",
       "0           50.370183  2560.272248  3416.036273   612.361274   152.629639  \n",
       "1          173.003018  2560.848995  2838.689749   511.753242   252.346311  \n",
       "2           78.813709  2405.344105  5446.386990  1009.849531   136.082341  \n",
       "3          113.443089  2080.893593  3552.034788   638.322809   177.135599  \n",
       "4                 NaN          NaN          NaN          NaN          NaN  \n",
       "...               ...          ...          ...          ...          ...  \n",
       "259008     165.704261  1797.078900  3479.256388   518.446095   205.669936  \n",
       "259009     141.170542  1178.975889  2471.502190   438.265632   168.026761  \n",
       "259010     214.386805  1144.998970  2324.799118   460.732851   267.886051  \n",
       "259011      95.152936  1712.439810  4134.842412   606.642312   128.642373  \n",
       "259012            NaN          NaN          NaN          NaN          NaN  \n",
       "\n",
       "[259013 rows x 15 columns]"
      ]
     },
     "execution_count": 3,
     "metadata": {},
     "output_type": "execute_result"
    }
   ],
   "source": [
    "df"
   ]
  },
  {
   "cell_type": "code",
   "execution_count": 4,
   "id": "e3040014-e522-466d-bbb7-c0c8228d51ec",
   "metadata": {},
   "outputs": [],
   "source": [
    "f = 0\n",
    "f0 = d['data'][0][:,f]\n",
    "mat_fname = r\"/Users/xinranyu/Desktop/1/Processed Data/20180123_Downstairs_proc_EKAR_nu.mat\"\n",
    "mc = sio.loadmat(mat_fname)\n",
    "md = mc['d'][0][0][0][0][0][0][0][0]\n",
    "m0 = md[:,f]"
   ]
  },
  {
   "cell_type": "code",
   "execution_count": 5,
   "id": "1d7a3696-5a59-4d57-84a8-92632e07e62d",
   "metadata": {},
   "outputs": [
    {
     "data": {
      "text/plain": [
       "((770,), (1325,))"
      ]
     },
     "execution_count": 5,
     "metadata": {},
     "output_type": "execute_result"
    }
   ],
   "source": [
    "m0.shape,f0.shape"
   ]
  },
  {
   "cell_type": "code",
   "execution_count": 6,
   "id": "4bc0e233-e58a-4c7a-b7c6-70e52189006c",
   "metadata": {},
   "outputs": [
    {
     "data": {
      "text/plain": [
       "(-0.2570819744444383, -0.23126199715804993)"
      ]
     },
     "execution_count": 6,
     "metadata": {},
     "output_type": "execute_result"
    }
   ],
   "source": [
    "np.nanmean(f0),np.nanmean(m0)"
   ]
  },
  {
   "cell_type": "code",
   "execution_count": 7,
   "id": "ff2daccd-38fb-4082-ad92-415644d32f0a",
   "metadata": {},
   "outputs": [
    {
     "data": {
      "image/png": "[encoded data removed]",
      "text/plain": [
       "<Figure size 640x480 with 1 Axes>"
      ]
     },
     "metadata": {},
     "output_type": "display_data"
    }
   ],
   "source": [
    "#python result\n",
    "plt.hist(f0,bins=100)\n",
    "plt.show() "
   ]
  },
  {
   "cell_type": "code",
   "execution_count": 8,
   "id": "82599299-0494-4362-9963-268c9179e135",
   "metadata": {},
   "outputs": [
    {
     "data": {
      "image/png": "[encoded data removed]",
      "text/plain": [
       "<Figure size 640x480 with 1 Axes>"
      ]
     },
     "metadata": {},
     "output_type": "display_data"
    }
   ],
   "source": [
    "#MATLAB result\n",
    "plt.hist(m0,bins=100)\n",
    "plt.show() "
   ]
  },
  {
   "cell_type": "code",
   "execution_count": 19,
   "id": "c80dcb17-18b0-4d20-9f9a-326797b49b00",
   "metadata": {},
   "outputs": [
    {
     "data": {
      "text/plain": [
       "array([[        nan,         nan,         nan, ..., -0.40544636,\n",
       "        -0.40443702, -0.39898594],\n",
       "       [-0.1824522 , -0.19648246, -0.20101027, ..., -0.10976496,\n",
       "        -0.08555284,         nan],\n",
       "       [-0.21123298, -0.23252567, -0.26527638, ..., -0.32249037,\n",
       "        -0.25009512, -0.17424659],\n",
       "       ...,\n",
       "       [        nan,         nan,         nan, ..., -0.28463871,\n",
       "        -0.2474934 , -0.30230017],\n",
       "       [        nan,         nan,         nan, ..., -0.246659  ,\n",
       "        -0.27744589, -0.3366126 ],\n",
       "       [        nan,         nan,         nan, ..., -0.49317232,\n",
       "        -0.46356767, -0.49717299]])"
      ]
     },
     "execution_count": 19,
     "metadata": {},
     "output_type": "execute_result"
    }
   ],
   "source": [
    "d['data'][0]"
   ]
  },
  {
   "cell_type": "code",
   "execution_count": 20,
   "id": "6b7d5df3-eb56-460e-bd34-2d82acf0056c",
   "metadata": {},
   "outputs": [
    {
     "data": {
      "text/plain": [
       "array([[-0.09594988, -0.06426421, -0.09221556, ..., -0.09424493,\n",
       "        -0.08545455,  0.01092761],\n",
       "       [-0.2608058 , -0.27333   , -0.27333341, ..., -0.28707703,\n",
       "        -0.28617839, -0.28026454],\n",
       "       [-0.21005498,         nan,         nan, ..., -0.41283838,\n",
       "        -0.40651387, -0.33409139],\n",
       "       ...,\n",
       "       [        nan,         nan,         nan, ..., -0.24890133,\n",
       "        -0.26285586, -0.30880103],\n",
       "       [        nan,         nan,         nan, ..., -0.26670992,\n",
       "        -0.29544425, -0.35652082],\n",
       "       [        nan,         nan,         nan, ..., -0.48080724,\n",
       "        -0.51537941, -0.45445377]])"
      ]
     },
     "execution_count": 20,
     "metadata": {},
     "output_type": "execute_result"
    }
   ],
   "source": [
    "md"
   ]
  },
  {
   "cell_type": "code",
   "execution_count": null,
   "id": "00296e1e-15bd-4dd1-97c8-a977997e2ead",
   "metadata": {},
   "outputs": [],
   "source": []
  },
  {
   "cell_type": "code",
   "execution_count": null,
   "id": "7061807a-59be-4676-ab36-792088d24bb1",
   "metadata": {},
   "outputs": [],
   "source": []
  }
 ],
 "metadata": {
  "kernelspec": {
   "display_name": "Python 3 (ipykernel)",
   "language": "python",
   "name": "python3"
  },
  "language_info": {
   "codemirror_mode": {
    "name": "ipython",
    "version": 3
   },
   "file_extension": ".py",
   "mimetype": "text/x-python",
   "name": "python",
   "nbconvert_exporter": "python",
   "pygments_lexer": "ipython3",
   "version": "3.9.18"
  }
 },
 "nbformat": 4,
 "nbformat_minor": 5
}
